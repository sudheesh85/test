{
 "metadata": {
  "name": "",
  "signature": "sha256:68a64e43d252ee8c6edd4c3277fd8a99eaeba2c05509e1f26e9e034ebe75f60b"
 },
 "nbformat": 3,
 "nbformat_minor": 0,
 "worksheets": []
}