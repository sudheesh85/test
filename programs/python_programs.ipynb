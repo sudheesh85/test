{
 "cells": [
  {
   "cell_type": "markdown",
   "metadata": {
    "collapsed": true
   },
   "source": [
    "# Fibnocci\n"
   ]
  },
  {
   "cell_type": "code",
   "execution_count": null,
   "metadata": {
    "collapsed": false
   },
   "outputs": [],
   "source": [
    "def fib(limit):\n",
    "    '''Function to find fibnocci number return'''\n",
    "    a,b=0,1\n",
    "    for i in range(0,limit):\n",
    "        yield a\n",
    "        a,b=b,a+b\n",
    "if __name__=='__main__':\n",
    "    inp=int(input(\"Enter the limit $\"))\n",
    "    fib_series=fib(inp)\n",
    "    print(\"First %d Fibnocci series :\" %inp,list(fib_series)) "
   ]
  },
  {
   "cell_type": "markdown",
   "metadata": {},
   "source": [
    "# Prime factors\n"
   ]
  },
  {
   "cell_type": "code",
   "execution_count": null,
   "metadata": {
    "collapsed": false
   },
   "outputs": [],
   "source": [
    "factors = lambda n: [x for x in range(1,n+1) if not n%x]\n",
    "is_prime = lambda n: len(factors(n))==2\n",
    "prime_facts = lambda n: list(filter(is_prime ,factors(n)))\n",
    "\n",
    "def prime_fact(num):\n",
    "    print(factors(num))\n",
    "    print(is_prime(num))\n",
    "    return prime_facts(num)\n",
    "if __name__=='__main__':\n",
    "    print(\"Prime Factorize\")\n",
    "    while True:\n",
    "        num=input(\"Enter your Number or Q to exit\")\n",
    "        if num=='Q':\n",
    "            break\n",
    "        print(prime_fact(int(num)))\n",
    "    "
   ]
  },
  {
   "cell_type": "markdown",
   "metadata": {},
   "source": [
    "# Is Prime"
   ]
  },
  {
   "cell_type": "code",
   "execution_count": null,
   "metadata": {
    "collapsed": false
   },
   "outputs": [],
   "source": [
    "def prime(x):\n",
    "    if x==2:\n",
    "        return 1\n",
    "    if not x%2 or x==1:\n",
    "        return False\n",
    "    for i in range(3, int(x**0.5)+1, 2):\n",
    "        if x % i == 0:\n",
    "            return False\n",
    "    return True\n",
    "if __name__=='__main__':\n",
    "    while True:\n",
    "        num=input(\"Enter Number to check or Q to Exit $:\")\n",
    "        if num=='Q':\n",
    "            break\n",
    "        if prime(int(num)):\n",
    "            print(\"%d is PRIME\" %int(num))\n",
    "        else:\n",
    "            print(\"%d is NOT PRIME\" %int(num))\n",
    "        print(\"Prime numbers up to %d is\" %int(num),list(filter(prime,range(1,int(num)))))      "
   ]
  },
  {
   "cell_type": "code",
   "execution_count": null,
   "metadata": {
    "collapsed": true
   },
   "outputs": [],
   "source": []
  },
  {
   "cell_type": "code",
   "execution_count": null,
   "metadata": {
    "collapsed": false
   },
   "outputs": [],
   "source": []
  },
  {
   "cell_type": "code",
   "execution_count": null,
   "metadata": {
    "collapsed": false
   },
   "outputs": [],
   "source": []
  },
  {
   "cell_type": "code",
   "execution_count": null,
   "metadata": {
    "collapsed": false
   },
   "outputs": [],
   "source": [
    "list(f)"
   ]
  },
  {
   "cell_type": "code",
   "execution_count": null,
   "metadata": {
    "collapsed": false
   },
   "outputs": [],
   "source": [
    "list(prime(10))"
   ]
  },
  {
   "cell_type": "code",
   "execution_count": null,
   "metadata": {
    "collapsed": true
   },
   "outputs": [],
   "source": []
  }
 ],
 "metadata": {
  "kernelspec": {
   "display_name": "Python 3",
   "language": "python",
   "name": "python3"
  },
  "language_info": {
   "codemirror_mode": {
    "name": "ipython",
    "version": 3
   },
   "file_extension": ".py",
   "mimetype": "text/x-python",
   "name": "python",
   "nbconvert_exporter": "python",
   "pygments_lexer": "ipython3",
   "version": "3.6.0"
  }
 },
 "nbformat": 4,
 "nbformat_minor": 2
}
